{
 "cells": [
  {
   "cell_type": "markdown",
   "metadata": {},
   "source": [
    "# aula 01 e aula 02 \n",
    "> seja bem-vindx às aulas 01 e 02 aplicadas pelo o grupo alura, na #quarentenadados. na aula, foi utilizado o google colab, plataforma digital para a criação de um notebook a fim de realizar a análise exploratória de dados. vimos nessa aula os filmes relacionados. agora, com mais tempo, reproduzi alguns códigos e tentei deixá-los mais visíveis para o entendimento, tentando aprender a utilizar o jupyter notebook, como recomendado. mesmo que o goolge colab tenha artíficos vantajosos e integrantes ao github, gostaria de aprender o jupyterlab e também o notebook, porque são offline. seja bem-vindx e sinta-se à vontade para me dizer algo, porque eu estou aprendendo. \n"
   ]
  },
  {
   "cell_type": "markdown",
   "metadata": {},
   "source": [
    "# sumário\n",
    ">- aula 01 <br> \n",
    "-introdução \n",
    "-variáveis em python \n",
    "-como importar uma biblioteca?\n",
    "-como importar um arquivo para a leitura?\n",
    "-aprender a mexer com o github\n",
    "-documentação\n",
    "-quantas colunas e linhas?\n",
    "-pesquisando todos os filmes com id (toy story)\n",
    "-noção geral da média\n",
    "-média do toy story\n",
    "-vamos plotar gráficos?\n",
    "\n",
    "-desafios da aula 01 \n",
    "-aula02\n",
    "\n",
    "\n"
   ]
  },
  {
   "cell_type": "markdown",
   "metadata": {},
   "source": [
    "<h1> introdução </h1>\n",
    "\n",
    "style h1{\n",
    "    color backgroudnd: blue;\n",
    "}"
   ]
  },
  {
   "cell_type": "code",
   "execution_count": 15,
   "metadata": {},
   "outputs": [
    {
     "name": "stdout",
     "output_type": "stream",
     "text": [
      "Enzo Juniti Fujimoto\n"
     ]
    }
   ],
   "source": [
    "print('Enzo Juniti Fujimoto')"
   ]
  },
  {
   "cell_type": "code",
   "execution_count": 5,
   "metadata": {},
   "outputs": [
    {
     "name": "stdout",
     "output_type": "stream",
     "text": [
      "prazer, me chamo Enzo Juniti Fujimoto\n"
     ]
    }
   ],
   "source": [
    "print(\"prazer, me chamo Enzo Juniti Fujimoto\")"
   ]
  },
  {
   "cell_type": "code",
   "execution_count": 6,
   "metadata": {},
   "outputs": [
    {
     "name": "stdout",
     "output_type": "stream",
     "text": [
      "tenho 19 anos\n"
     ]
    }
   ],
   "source": [
    "print(\"e tenho 19 anos\")"
   ]
  },
  {
   "cell_type": "code",
   "execution_count": 13,
   "metadata": {},
   "outputs": [],
   "source": [
    "a = 'prazer, me chamo Enzo Juniti Fujimoto'\n",
    "b = ' e tenho 19 anos'"
   ]
  },
  {
   "cell_type": "code",
   "execution_count": 14,
   "metadata": {},
   "outputs": [
    {
     "name": "stdout",
     "output_type": "stream",
     "text": [
      "prazer, me chamo Enzo Juniti Fujimoto e tenho 19 anos\n"
     ]
    }
   ],
   "source": [
    "print(a + b)"
   ]
  }
 ],
 "metadata": {
  "kernelspec": {
   "display_name": "Python 3",
   "language": "python",
   "name": "python3"
  },
  "language_info": {
   "codemirror_mode": {
    "name": "ipython",
    "version": 3
   },
   "file_extension": ".py",
   "mimetype": "text/x-python",
   "name": "python",
   "nbconvert_exporter": "python",
   "pygments_lexer": "ipython3",
   "version": "3.7.6"
  }
 },
 "nbformat": 4,
 "nbformat_minor": 4
}
